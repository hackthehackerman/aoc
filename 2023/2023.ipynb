{
 "cells": [
  {
   "cell_type": "code",
   "execution_count": 2,
   "metadata": {},
   "outputs": [],
   "source": [
    "# imports\n",
    "from collections import defaultdict, Counter\n",
    "import re\n",
    "import copy\n",
    "\n",
    "# utils\n",
    "def get_input(day: int, test: bool = False):    \n",
    "    with open(f\"input/day{day}{'_test' if test else ''}.txt\", \"r\") as f:\n",
    "        return f.read()\n",
    "\n",
    "def get_input_as_rows(day: int, test: bool = False):\n",
    "    return get_input(day, test).split(\"\\n\")\n",
    "\n",
    "def get_input_as_matrix(day: int, test: bool = False):\n",
    "    return [list(row) for row in get_input_as_rows(day, test)]"
   ]
  },
  {
   "cell_type": "code",
   "execution_count": 21,
   "metadata": {},
   "outputs": [
    {
     "name": "stdout",
     "output_type": "stream",
     "text": [
      "54239\n",
      "55343\n"
     ]
    }
   ],
   "source": [
    "# day 1\n",
    "## part one\n",
    "lines = get_input_as_rows(1)\n",
    "ret = sum([int(f\"{digits[0]}{digits[-1]}\") for digits in [[c for c in line if c.isdigit()] for line in lines]])\n",
    "print(ret)\n",
    "\n",
    "## part two\n",
    "lines = get_input_as_rows(1)\n",
    "numbers= {\"one\":1, \"two\":2, \"three\":3, \"four\":4, \"five\":5, \"six\":6, \"seven\":7, \"eight\":8, \"nine\":9, \"1\":1, \"2\":2, \"3\":3, \"4\":4, \"5\":5, \"6\":6, \"7\":7, \"8\":8, \"9\":9}\n",
    "ret = 0\n",
    "for line in lines:\n",
    "    num_indexes = []\n",
    "    for word in numbers:\n",
    "        first_idx = line.find(word)\n",
    "        last_idx = line.rfind(word)\n",
    "        if first_idx != -1:\n",
    "            num_indexes.append((first_idx, numbers[word]))\n",
    "        if last_idx != -1:\n",
    "            num_indexes.append((last_idx, numbers[word]))\n",
    "    num_indexes.sort()\n",
    "    num = num_indexes[0][1] * 10 + num_indexes[-1][1]\n",
    "    ret += num\n",
    "print(ret)\n"
   ]
  },
  {
   "cell_type": "code",
   "execution_count": 35,
   "metadata": {},
   "outputs": [
    {
     "name": "stdout",
     "output_type": "stream",
     "text": [
      "1867\n",
      "84538\n"
     ]
    }
   ],
   "source": [
    "# day2\n",
    "## part one\n",
    "lines = get_input_as_rows(2)\n",
    "ret = 0\n",
    "cubes = {\"red\": 12, \"green\": 13, \"blue\": 14}\n",
    "\n",
    "ret = 0\n",
    "for idx, line in enumerate(lines):\n",
    "    sets = line.split(\":\")[1].split(\";\")\n",
    "    possible = True\n",
    "    for set in sets:\n",
    "        num_colors = set.split(\",\")\n",
    "        for num_color in num_colors:\n",
    "            num, color = num_color.split()\n",
    "            if int(num) > cubes[color]:\n",
    "                possible = False\n",
    "                break\n",
    "    if possible:\n",
    "        ret += (idx + 1)\n",
    "print(ret)\n",
    "            \n",
    "## part two\n",
    "lines = get_input_as_rows(2)\n",
    "ret = 0\n",
    "for idx, line in enumerate(lines):\n",
    "    max_dice = defaultdict(int)\n",
    "    sets = line.split(\":\")[1].split(\";\")\n",
    "    possible = True\n",
    "    for set in sets:\n",
    "        num_colors = set.split(\",\")\n",
    "        for num_color in num_colors:\n",
    "            num, color = num_color.split()\n",
    "            max_dice[color] = max(max_dice[color], int(num))\n",
    "\n",
    "    power = max_dice[\"red\"] * max_dice[\"blue\"] * max_dice[\"green\"]\n",
    "    ret += power\n",
    "print(ret)\n",
    "\n"
   ]
  }
 ],
 "metadata": {
  "kernelspec": {
   "display_name": "venv",
   "language": "python",
   "name": "python3"
  },
  "language_info": {
   "codemirror_mode": {
    "name": "ipython",
    "version": 3
   },
   "file_extension": ".py",
   "mimetype": "text/x-python",
   "name": "python",
   "nbconvert_exporter": "python",
   "pygments_lexer": "ipython3",
   "version": "3.13.0"
  }
 },
 "nbformat": 4,
 "nbformat_minor": 2
}
