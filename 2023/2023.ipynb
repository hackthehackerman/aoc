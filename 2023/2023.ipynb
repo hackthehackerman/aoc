{
 "cells": [
  {
   "cell_type": "code",
   "execution_count": 64,
   "metadata": {},
   "outputs": [],
   "source": [
    "# imports\n",
    "from collections import defaultdict, Counter\n",
    "import re\n",
    "import copy\n",
    "\n",
    "# utils\n",
    "def get_input(day: int, test: bool = False):    \n",
    "    with open(f\"input/day{day}{'_test' if test else ''}.txt\", \"r\") as f:\n",
    "        return f.read()\n",
    "\n",
    "def get_input_as_rows(day: int, test: bool = False):\n",
    "    return get_input(day, test).split(\"\\n\")\n",
    "\n",
    "def get_input_as_matrix(day: int, test: bool = False):\n",
    "    return [list(row) for row in get_input_as_rows(day, test)]\n",
    "\n",
    "# debug\n",
    "def export_matrix_to_file(m, file_name):\n",
    "    with open(file_name, 'w') as f:\n",
    "        for row in m:\n",
    "            f.write(''.join(row) + '\\n')\n",
    "\n"
   ]
  },
  {
   "cell_type": "code",
   "execution_count": 21,
   "metadata": {},
   "outputs": [
    {
     "name": "stdout",
     "output_type": "stream",
     "text": [
      "54239\n",
      "55343\n"
     ]
    }
   ],
   "source": [
    "# day 1\n",
    "## part one\n",
    "lines = get_input_as_rows(1)\n",
    "ret = sum([int(f\"{digits[0]}{digits[-1]}\") for digits in [[c for c in line if c.isdigit()] for line in lines]])\n",
    "print(ret)\n",
    "\n",
    "## part two\n",
    "lines = get_input_as_rows(1)\n",
    "numbers= {\"one\":1, \"two\":2, \"three\":3, \"four\":4, \"five\":5, \"six\":6, \"seven\":7, \"eight\":8, \"nine\":9, \"1\":1, \"2\":2, \"3\":3, \"4\":4, \"5\":5, \"6\":6, \"7\":7, \"8\":8, \"9\":9}\n",
    "ret = 0\n",
    "for line in lines:\n",
    "    num_indexes = []\n",
    "    for word in numbers:\n",
    "        first_idx = line.find(word)\n",
    "        last_idx = line.rfind(word)\n",
    "        if first_idx != -1:\n",
    "            num_indexes.append((first_idx, numbers[word]))\n",
    "        if last_idx != -1:\n",
    "            num_indexes.append((last_idx, numbers[word]))\n",
    "    num_indexes.sort()\n",
    "    num = num_indexes[0][1] * 10 + num_indexes[-1][1]\n",
    "    ret += num\n",
    "print(ret)\n"
   ]
  },
  {
   "cell_type": "code",
   "execution_count": 35,
   "metadata": {},
   "outputs": [
    {
     "name": "stdout",
     "output_type": "stream",
     "text": [
      "1867\n",
      "84538\n"
     ]
    }
   ],
   "source": [
    "# day2\n",
    "## part one\n",
    "lines = get_input_as_rows(2)\n",
    "ret = 0\n",
    "cubes = {\"red\": 12, \"green\": 13, \"blue\": 14}\n",
    "\n",
    "ret = 0\n",
    "for idx, line in enumerate(lines):\n",
    "    sets = line.split(\":\")[1].split(\";\")\n",
    "    possible = True\n",
    "    for set in sets:\n",
    "        num_colors = set.split(\",\")\n",
    "        for num_color in num_colors:\n",
    "            num, color = num_color.split()\n",
    "            if int(num) > cubes[color]:\n",
    "                possible = False\n",
    "                break\n",
    "    if possible:\n",
    "        ret += (idx + 1)\n",
    "print(ret)\n",
    "            \n",
    "## part two\n",
    "lines = get_input_as_rows(2)\n",
    "ret = 0\n",
    "for idx, line in enumerate(lines):\n",
    "    max_dice = defaultdict(int)\n",
    "    sets = line.split(\":\")[1].split(\";\")\n",
    "    possible = True\n",
    "    for set in sets:\n",
    "        num_colors = set.split(\",\")\n",
    "        for num_color in num_colors:\n",
    "            num, color = num_color.split()\n",
    "            max_dice[color] = max(max_dice[color], int(num))\n",
    "\n",
    "    power = max_dice[\"red\"] * max_dice[\"blue\"] * max_dice[\"green\"]\n",
    "    ret += power\n",
    "print(ret)\n",
    "\n"
   ]
  },
  {
   "cell_type": "code",
   "execution_count": 73,
   "metadata": {},
   "outputs": [
    {
     "name": "stdout",
     "output_type": "stream",
     "text": [
      "512794\n",
      "67779080\n"
     ]
    }
   ],
   "source": [
    "# day3\n",
    "## part one\n",
    "m = get_input_as_matrix(3)\n",
    "\n",
    "adjacent = [(di, dj) for di in [-1, 0, 1] for dj in [-1, 0, 1] if not (di == 0 and dj == 0)]\n",
    "\n",
    "def get_number_and_erase(m, i, j):\n",
    "    if i < 0 or i >= len(m):\n",
    "        return -1\n",
    "    if j < 0 or j >= len(m[0]):\n",
    "        return -1\n",
    "    if not m[i][j].isdigit():\n",
    "        return -1\n",
    "    left_ptr = j\n",
    "    while left_ptr-1 >= 0 and m[i][left_ptr-1].isdigit():\n",
    "        left_ptr -=1\n",
    "    cur_num = 0\n",
    "    while left_ptr < len(m[0]) and m[i][left_ptr].isdigit():\n",
    "        cur_num = cur_num * 10 + int(m[i][left_ptr])\n",
    "        m[i][left_ptr] = \".\"\n",
    "        left_ptr += 1\n",
    "    return cur_num\n",
    "\n",
    "ret = 0\n",
    "for i in range(len(m)):\n",
    "    for j in range(len(m[0])):\n",
    "        if (not m[i][j].isdigit()) and (not m[i][j] == \".\"):\n",
    "            for adj in adjacent:\n",
    "                number = get_number_and_erase(m, i+adj[0], j+adj[1])\n",
    "                if number != -1:\n",
    "                    ret += number\n",
    "print(ret)\n",
    "\n",
    "## part two\n",
    "m = get_input_as_matrix(3)\n",
    "ret = 0\n",
    "for i in range(len(m)):\n",
    "    for j in range(len(m[0])):\n",
    "        if not m[i][j] == \"*\":\n",
    "            continue\n",
    "        numbers = []\n",
    "        for adj in adjacent:\n",
    "            number = get_number_and_erase(m, i+adj[0], j+adj[1])\n",
    "            if number != -1:\n",
    "                numbers.append(number)\n",
    "        if len(numbers) == 2:\n",
    "            ret += numbers[0] * numbers[1]\n",
    "print(ret)"
   ]
  },
  {
   "cell_type": "code",
   "execution_count": 99,
   "metadata": {},
   "outputs": [
    {
     "name": "stdout",
     "output_type": "stream",
     "text": [
      "32609\n",
      "14624680\n"
     ]
    }
   ],
   "source": [
    "# day4\n",
    "## part one\n",
    "rows = get_input_as_rows(4)\n",
    "def get_numbers(row):\n",
    "    parts = row.split(\"|\")\n",
    "    winning_numbers = parts[0].split(\":\")[1].strip().split(\" \")\n",
    "    numbers = parts[1].strip().split(\" \")\n",
    "    winning_numbers = [int(number) for number in winning_numbers if number != \"\"]\n",
    "    numbers = [int(number) for number in numbers if number != \"\"]\n",
    "    return winning_numbers, numbers\n",
    "\n",
    "ret = 0\n",
    "for row in rows:\n",
    "    winning_numbers, numbers = get_numbers(row)\n",
    "    cnt = sum(1 for number in numbers if number in winning_numbers) \n",
    "    if cnt >= 1:\n",
    "        score = 2 ** (cnt-1)\n",
    "        ret += score\n",
    "print(ret)\n",
    "    \n",
    "## part two\n",
    "multipliers = defaultdict(lambda: 1)\n",
    "\n",
    "for idx, row in enumerate(rows):\n",
    "    winning_numbers, numbers = get_numbers(row)\n",
    "    cnt = sum(1 for number in numbers if number in winning_numbers)\n",
    "    for i in range(idx+1, idx+1+cnt):\n",
    "        multipliers[i] += multipliers[idx]\n",
    "\n",
    "ret = 0\n",
    "for i in range(len(rows)):\n",
    "    ret += multipliers[i]\n",
    "print(ret)\n",
    "        \n",
    "    "
   ]
  },
  {
   "cell_type": "code",
   "execution_count": null,
   "metadata": {},
   "outputs": [],
   "source": [
    "(m)"
   ]
  }
 ],
 "metadata": {
  "kernelspec": {
   "display_name": "venv",
   "language": "python",
   "name": "python3"
  },
  "language_info": {
   "codemirror_mode": {
    "name": "ipython",
    "version": 3
   },
   "file_extension": ".py",
   "mimetype": "text/x-python",
   "name": "python",
   "nbconvert_exporter": "python",
   "pygments_lexer": "ipython3",
   "version": "3.13.0"
  }
 },
 "nbformat": 4,
 "nbformat_minor": 2
}
