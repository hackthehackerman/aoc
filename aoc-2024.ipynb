{
 "cells": [
  {
   "cell_type": "code",
   "execution_count": 23,
   "metadata": {},
   "outputs": [],
   "source": [
    "# imports\n",
    "from collections import defaultdict, Counter\n"
   ]
  },
  {
   "cell_type": "code",
   "execution_count": 27,
   "metadata": {},
   "outputs": [],
   "source": [
    "# utils\n",
    "def get_input(day: int, test: bool = False):    \n",
    "    with open(f\"input/day{day}{'_test' if test else ''}.txt\", \"r\") as f:\n",
    "        return f.read()\n",
    "\n",
    "def get_input_as_rows(day: int, test: bool = False):\n",
    "    return get_input(day, test).split(\"\\n\")\n"
   ]
  },
  {
   "cell_type": "code",
   "execution_count": 28,
   "metadata": {},
   "outputs": [
    {
     "name": "stdout",
     "output_type": "stream",
     "text": [
      "1830467\n",
      "26674158\n"
     ]
    }
   ],
   "source": [
    "# day 1\n",
    "## part one\n",
    "input_day1 = get_input_as_rows(1)\n",
    "ll = [int(row.split(\" \")[0].strip()) for row in input_day1]\n",
    "rl = [int(row.split(\" \")[-1].strip()) for row in input_day1]\n",
    "ll.sort()\n",
    "rl.sort()\n",
    "\n",
    "total_distance = sum([abs(ll[i]- rl[i]) for i in range(len(ll))])\n",
    "print(total_distance)\n",
    "\n",
    "## part two\n",
    "input_day1 = get_input_as_rows(1)\n",
    "ll = [int(row.split(\" \")[0].strip()) for row in input_day1]\n",
    "rl = [int(row.split(\" \")[-1].strip()) for row in input_day1]\n",
    "c = Counter(rl)\n",
    "similarity_score = sum([num * c[num] for num in ll])\n",
    "print(similarity_score)\n"
   ]
  },
  {
   "cell_type": "code",
   "execution_count": null,
   "metadata": {},
   "outputs": [],
   "source": []
  }
 ],
 "metadata": {
  "kernelspec": {
   "display_name": "venv",
   "language": "python",
   "name": "python3"
  },
  "language_info": {
   "codemirror_mode": {
    "name": "ipython",
    "version": 3
   },
   "file_extension": ".py",
   "mimetype": "text/x-python",
   "name": "python",
   "nbconvert_exporter": "python",
   "pygments_lexer": "ipython3",
   "version": "3.13.0"
  }
 },
 "nbformat": 4,
 "nbformat_minor": 2
}
