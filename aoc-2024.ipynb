{
 "cells": [
  {
   "cell_type": "code",
   "execution_count": 67,
   "metadata": {},
   "outputs": [],
   "source": [
    "# imports\n",
    "from collections import defaultdict, Counter\n",
    "import re"
   ]
  },
  {
   "cell_type": "code",
   "execution_count": 27,
   "metadata": {},
   "outputs": [],
   "source": [
    "# utils\n",
    "def get_input(day: int, test: bool = False):    \n",
    "    with open(f\"input/day{day}{'_test' if test else ''}.txt\", \"r\") as f:\n",
    "        return f.read()\n",
    "\n",
    "def get_input_as_rows(day: int, test: bool = False):\n",
    "    return get_input(day, test).split(\"\\n\")\n"
   ]
  },
  {
   "cell_type": "code",
   "execution_count": 28,
   "metadata": {},
   "outputs": [
    {
     "name": "stdout",
     "output_type": "stream",
     "text": [
      "1830467\n",
      "26674158\n"
     ]
    }
   ],
   "source": [
    "# day 1\n",
    "## part one\n",
    "input_day1 = get_input_as_rows(1)\n",
    "ll = [int(row.split(\" \")[0].strip()) for row in input_day1]\n",
    "rl = [int(row.split(\" \")[-1].strip()) for row in input_day1]\n",
    "ll.sort()\n",
    "rl.sort()\n",
    "\n",
    "total_distance = sum([abs(ll[i]- rl[i]) for i in range(len(ll))])\n",
    "print(total_distance)\n",
    "\n",
    "## part two\n",
    "input_day1 = get_input_as_rows(1)\n",
    "ll = [int(row.split(\" \")[0].strip()) for row in input_day1]\n",
    "rl = [int(row.split(\" \")[-1].strip()) for row in input_day1]\n",
    "c = Counter(rl)\n",
    "similarity_score = sum([num * c[num] for num in ll])\n",
    "print(similarity_score)\n"
   ]
  },
  {
   "cell_type": "code",
   "execution_count": 62,
   "metadata": {},
   "outputs": [
    {
     "name": "stdout",
     "output_type": "stream",
     "text": [
      "463\n",
      "514\n"
     ]
    }
   ],
   "source": [
    "# day2\n",
    "## part one\n",
    "input_day2 = get_input_as_rows(2)\n",
    "rows = [list(map(int, row.split(\" \"))) for row in input_day2]\n",
    "\n",
    "safe_counter = 0\n",
    "for row in rows:\n",
    "    safe = True\n",
    "    for i, num in enumerate(row):\n",
    "        if i > 1 and ((num > row[i-1]) != (row[i-1] > row[i-2])):\n",
    "            safe = False\n",
    "            break\n",
    "        if i != 0 and (abs(num - row[i-1]) > 3 or abs(num - row[i-1]) < 1):\n",
    "            safe = False\n",
    "            break\n",
    "    if safe:\n",
    "        safe_counter += 1\n",
    "print(safe_counter)\n",
    "\n",
    "## part two\n",
    "input_day2 = get_input_as_rows(2)\n",
    "rows = [list(map(int, row.split(\" \"))) for row in input_day2]\n",
    "\n",
    "def is_safe(arr):\n",
    "    safe = True\n",
    "    for i, num in enumerate(arr):\n",
    "        if i > 1 and ((num > arr[i-1]) != (arr[i-1] > arr[i-2])):\n",
    "            safe = False\n",
    "            break\n",
    "        if i != 0 and (abs(num - arr[i-1]) > 3 or abs(num - arr[i-1]) < 1):\n",
    "            safe = False\n",
    "            break\n",
    "    return safe\n",
    "\n",
    "safe_counter = 0\n",
    "for row in rows:\n",
    "    if is_safe(row):\n",
    "        safe_counter += 1\n",
    "    else:\n",
    "        for i in range(len(row)):\n",
    "            if is_safe(row[:i] + row[i+1:]):\n",
    "                safe_counter += 1\n",
    "                break\n",
    "    \n",
    "print(safe_counter)\n",
    "\n"
   ]
  },
  {
   "cell_type": "code",
   "execution_count": 78,
   "metadata": {},
   "outputs": [
    {
     "name": "stdout",
     "output_type": "stream",
     "text": [
      "185797128\n",
      "89798695\n"
     ]
    }
   ],
   "source": [
    "# day3\n",
    "## part one\n",
    "input_day3 = get_input(3)\n",
    "pattern = r\"mul\\((\\d{1,3}),(\\d{1,3})\\)\"\n",
    "\n",
    "matches = re.findall(pattern, input_day3)\n",
    "result = sum([int(match[0]) * int(match[1]) for match in matches])\n",
    "print(result)\n",
    "\n",
    "## part two\n",
    "patterns = {\n",
    "    'mul': r\"mul\\((\\d{1,3})\\s*,\\s*(\\d{1,3})\\)\",\n",
    "    'do': r\"do\\(\\)\",\n",
    "    'dont': r\"don't\\(\\)\"\n",
    "}\n",
    "\n",
    "# Find all instructions with their positions\n",
    "mul_matches = [(m.span(), int(m.group(1)), int(m.group(2))) for m in re.finditer(patterns['mul'], input_day3)]\n",
    "do_matches = [m.span()[0] for m in re.finditer(patterns['do'], input_day3)]\n",
    "dont_matches = [m.span()[0] for m in re.finditer(patterns['dont'], input_day3)]\n",
    "\n",
    "print(do_matches)\n",
    "\n",
    "# Combine all state changes (do/don't) and sort by position\n",
    "state_changes = [(pos, True) for pos in do_matches] + [(pos, False) for pos in dont_matches]\n",
    "state_changes.sort()\n",
    "\n",
    "# Process multiplications\n",
    "enabled = True  # Start enabled\n",
    "result = 0\n",
    "\n",
    "for (start, end), num1, num2 in mul_matches:\n",
    "    # Update enabled state based on any do/don't instructions before this mul\n",
    "    for pos, new_state in state_changes:\n",
    "        if pos < start:\n",
    "            enabled = new_state\n",
    "        else:\n",
    "            break\n",
    "            \n",
    "    if enabled:\n",
    "        result += num1 * num2\n",
    "\n",
    "print(result)"
   ]
  }
 ],
 "metadata": {
  "kernelspec": {
   "display_name": "venv",
   "language": "python",
   "name": "python3"
  },
  "language_info": {
   "codemirror_mode": {
    "name": "ipython",
    "version": 3
   },
   "file_extension": ".py",
   "mimetype": "text/x-python",
   "name": "python",
   "nbconvert_exporter": "python",
   "pygments_lexer": "ipython3",
   "version": "3.13.0"
  }
 },
 "nbformat": 4,
 "nbformat_minor": 2
}
