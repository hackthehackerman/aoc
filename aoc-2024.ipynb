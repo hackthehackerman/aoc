{
 "cells": [
  {
   "cell_type": "code",
   "execution_count": 3,
   "metadata": {},
   "outputs": [],
   "source": [
    "# imports\n",
    "from collections import defaultdict\n"
   ]
  },
  {
   "cell_type": "code",
   "execution_count": 1,
   "metadata": {},
   "outputs": [],
   "source": [
    "# utils\n",
    "def get_input(day: int, test: bool = False):\n",
    "    with open(f\"input/day{day}.txt\", \"r\") as f:\n",
    "        return f.read()\n"
   ]
  },
  {
   "cell_type": "code",
   "execution_count": 8,
   "metadata": {},
   "outputs": [
    {
     "name": "stdout",
     "output_type": "stream",
     "text": [
      "331778\n"
     ]
    }
   ],
   "source": [
    "# day 1\n",
    "## part one\n",
    "input_day1 = get_input(1)\n",
    "ll = [int(row.split(\" \")[0].strip()) for row in input_day1.split(\"\\n\")]\n",
    "rl = [int(row.split(\" \")[-1].strip()) for row in input_day1.split(\"\\n\")]\n",
    "\n",
    "lm = defaultdict(list)\n",
    "rm = defaultdict(list)\n",
    "for idx, val in enumerate(ll):\n",
    "    lm[val].append(idx)\n",
    "for idx, val in enumerate(rl):\n",
    "    rm[val].append(idx)\n",
    "\n",
    "ll.sort()\n",
    "rl.sort()\n",
    "\n",
    "total_distance = sum([abs(lm[ll[i]].pop()- rm[rl[i]].pop()) for i in range(len(ll))])\n",
    "print(total_distance)\n"
   ]
  },
  {
   "cell_type": "code",
   "execution_count": null,
   "metadata": {},
   "outputs": [],
   "source": []
  }
 ],
 "metadata": {
  "kernelspec": {
   "display_name": "venv",
   "language": "python",
   "name": "python3"
  },
  "language_info": {
   "codemirror_mode": {
    "name": "ipython",
    "version": 3
   },
   "file_extension": ".py",
   "mimetype": "text/x-python",
   "name": "python",
   "nbconvert_exporter": "python",
   "pygments_lexer": "ipython3",
   "version": "3.13.0"
  }
 },
 "nbformat": 4,
 "nbformat_minor": 2
}
